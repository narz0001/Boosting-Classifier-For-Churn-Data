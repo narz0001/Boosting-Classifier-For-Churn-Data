{
 "cells": [
  {
   "cell_type": "markdown",
   "metadata": {},
   "source": [
    "<h1>Week 9: Boosting Classifier </h1><br>\n",
    "<strong>\n",
    "In this exercise, you are to complete codes following the steps given in the respective cells. <br>\n",
    "Replace the underlines with codes to make appropriate classifiers for churning data.</strong>"
   ]
  },
  {
   "cell_type": "code",
   "execution_count": 1,
   "metadata": {
    "ExecuteTime": {
     "end_time": "2023-10-11T12:52:59.571897Z",
     "start_time": "2023-10-11T12:52:59.346345Z"
    }
   },
   "outputs": [],
   "source": [
    "import pandas as pd\n",
    "\n",
    "df = pd.read_csv(\"churning.csv\")"
   ]
  },
  {
   "cell_type": "code",
   "execution_count": 2,
   "metadata": {
    "ExecuteTime": {
     "end_time": "2023-10-11T12:53:00.638858Z",
     "start_time": "2023-10-11T12:53:00.604027Z"
    }
   },
   "outputs": [
    {
     "data": {
      "text/plain": "   account length  number vmail messages  total day minutes  total day calls  \\\n0             128                     25              265.1              110   \n1             107                     26              161.6              123   \n2             137                      0              243.4              114   \n3              84                      0              299.4               71   \n4              75                      0              166.7              113   \n\n   total day charge  total eve minutes  total eve calls  total eve charge  \\\n0             45.07              197.4               99             16.78   \n1             27.47              195.5              103             16.62   \n2             41.38              121.2              110             10.30   \n3             50.90               61.9               88              5.26   \n4             28.34              148.3              122             12.61   \n\n   total night minutes  total night calls  total night charge  \\\n0                244.7                 91               11.01   \n1                254.4                103               11.45   \n2                162.6                104                7.32   \n3                196.9                 89                8.86   \n4                186.9                121                8.41   \n\n   total intl minutes  total intl calls  total intl charge  \\\n0                10.0                 3               2.70   \n1                13.7                 3               3.70   \n2                12.2                 5               3.29   \n3                 6.6                 7               1.78   \n4                10.1                 3               2.73   \n\n   customer service calls  churn  \n0                       1      0  \n1                       1      0  \n2                       0      0  \n3                       2      0  \n4                       3      0  ",
      "text/html": "<div>\n<style scoped>\n    .dataframe tbody tr th:only-of-type {\n        vertical-align: middle;\n    }\n\n    .dataframe tbody tr th {\n        vertical-align: top;\n    }\n\n    .dataframe thead th {\n        text-align: right;\n    }\n</style>\n<table border=\"1\" class=\"dataframe\">\n  <thead>\n    <tr style=\"text-align: right;\">\n      <th></th>\n      <th>account length</th>\n      <th>number vmail messages</th>\n      <th>total day minutes</th>\n      <th>total day calls</th>\n      <th>total day charge</th>\n      <th>total eve minutes</th>\n      <th>total eve calls</th>\n      <th>total eve charge</th>\n      <th>total night minutes</th>\n      <th>total night calls</th>\n      <th>total night charge</th>\n      <th>total intl minutes</th>\n      <th>total intl calls</th>\n      <th>total intl charge</th>\n      <th>customer service calls</th>\n      <th>churn</th>\n    </tr>\n  </thead>\n  <tbody>\n    <tr>\n      <th>0</th>\n      <td>128</td>\n      <td>25</td>\n      <td>265.1</td>\n      <td>110</td>\n      <td>45.07</td>\n      <td>197.4</td>\n      <td>99</td>\n      <td>16.78</td>\n      <td>244.7</td>\n      <td>91</td>\n      <td>11.01</td>\n      <td>10.0</td>\n      <td>3</td>\n      <td>2.70</td>\n      <td>1</td>\n      <td>0</td>\n    </tr>\n    <tr>\n      <th>1</th>\n      <td>107</td>\n      <td>26</td>\n      <td>161.6</td>\n      <td>123</td>\n      <td>27.47</td>\n      <td>195.5</td>\n      <td>103</td>\n      <td>16.62</td>\n      <td>254.4</td>\n      <td>103</td>\n      <td>11.45</td>\n      <td>13.7</td>\n      <td>3</td>\n      <td>3.70</td>\n      <td>1</td>\n      <td>0</td>\n    </tr>\n    <tr>\n      <th>2</th>\n      <td>137</td>\n      <td>0</td>\n      <td>243.4</td>\n      <td>114</td>\n      <td>41.38</td>\n      <td>121.2</td>\n      <td>110</td>\n      <td>10.30</td>\n      <td>162.6</td>\n      <td>104</td>\n      <td>7.32</td>\n      <td>12.2</td>\n      <td>5</td>\n      <td>3.29</td>\n      <td>0</td>\n      <td>0</td>\n    </tr>\n    <tr>\n      <th>3</th>\n      <td>84</td>\n      <td>0</td>\n      <td>299.4</td>\n      <td>71</td>\n      <td>50.90</td>\n      <td>61.9</td>\n      <td>88</td>\n      <td>5.26</td>\n      <td>196.9</td>\n      <td>89</td>\n      <td>8.86</td>\n      <td>6.6</td>\n      <td>7</td>\n      <td>1.78</td>\n      <td>2</td>\n      <td>0</td>\n    </tr>\n    <tr>\n      <th>4</th>\n      <td>75</td>\n      <td>0</td>\n      <td>166.7</td>\n      <td>113</td>\n      <td>28.34</td>\n      <td>148.3</td>\n      <td>122</td>\n      <td>12.61</td>\n      <td>186.9</td>\n      <td>121</td>\n      <td>8.41</td>\n      <td>10.1</td>\n      <td>3</td>\n      <td>2.73</td>\n      <td>3</td>\n      <td>0</td>\n    </tr>\n  </tbody>\n</table>\n</div>"
     },
     "execution_count": 2,
     "metadata": {},
     "output_type": "execute_result"
    }
   ],
   "source": [
    "df.head()"
   ]
  },
  {
   "cell_type": "code",
   "execution_count": 3,
   "metadata": {
    "ExecuteTime": {
     "end_time": "2023-10-11T12:54:02.556951Z",
     "start_time": "2023-10-11T12:54:02.534345Z"
    }
   },
   "outputs": [],
   "source": [
    "x = df.iloc[:,:-1] # Prepare features for classification\n",
    "y = df.iloc[:,-1] # Prepare labels for classification"
   ]
  },
  {
   "cell_type": "code",
   "execution_count": 6,
   "metadata": {
    "ExecuteTime": {
     "end_time": "2023-10-11T12:56:38.960108Z",
     "start_time": "2023-10-11T12:56:38.902096Z"
    }
   },
   "outputs": [],
   "source": [
    "from sklearn.model_selection import train_test_split\n",
    "\n",
    "X_train, X_test, y_train, y_test = train_test_split(x, y, test_size=0.3, random_state=0)"
   ]
  },
  {
   "cell_type": "code",
   "execution_count": 7,
   "metadata": {
    "ExecuteTime": {
     "end_time": "2023-10-11T12:56:40.111902Z",
     "start_time": "2023-10-11T12:56:40.071497Z"
    }
   },
   "outputs": [
    {
     "data": {
      "text/plain": "AdaBoostClassifier(algorithm='SAMME', learning_rate=0.2, n_estimators=3,\n                   random_state=0)",
      "text/html": "<style>#sk-container-id-1 {color: black;background-color: white;}#sk-container-id-1 pre{padding: 0;}#sk-container-id-1 div.sk-toggleable {background-color: white;}#sk-container-id-1 label.sk-toggleable__label {cursor: pointer;display: block;width: 100%;margin-bottom: 0;padding: 0.3em;box-sizing: border-box;text-align: center;}#sk-container-id-1 label.sk-toggleable__label-arrow:before {content: \"▸\";float: left;margin-right: 0.25em;color: #696969;}#sk-container-id-1 label.sk-toggleable__label-arrow:hover:before {color: black;}#sk-container-id-1 div.sk-estimator:hover label.sk-toggleable__label-arrow:before {color: black;}#sk-container-id-1 div.sk-toggleable__content {max-height: 0;max-width: 0;overflow: hidden;text-align: left;background-color: #f0f8ff;}#sk-container-id-1 div.sk-toggleable__content pre {margin: 0.2em;color: black;border-radius: 0.25em;background-color: #f0f8ff;}#sk-container-id-1 input.sk-toggleable__control:checked~div.sk-toggleable__content {max-height: 200px;max-width: 100%;overflow: auto;}#sk-container-id-1 input.sk-toggleable__control:checked~label.sk-toggleable__label-arrow:before {content: \"▾\";}#sk-container-id-1 div.sk-estimator input.sk-toggleable__control:checked~label.sk-toggleable__label {background-color: #d4ebff;}#sk-container-id-1 div.sk-label input.sk-toggleable__control:checked~label.sk-toggleable__label {background-color: #d4ebff;}#sk-container-id-1 input.sk-hidden--visually {border: 0;clip: rect(1px 1px 1px 1px);clip: rect(1px, 1px, 1px, 1px);height: 1px;margin: -1px;overflow: hidden;padding: 0;position: absolute;width: 1px;}#sk-container-id-1 div.sk-estimator {font-family: monospace;background-color: #f0f8ff;border: 1px dotted black;border-radius: 0.25em;box-sizing: border-box;margin-bottom: 0.5em;}#sk-container-id-1 div.sk-estimator:hover {background-color: #d4ebff;}#sk-container-id-1 div.sk-parallel-item::after {content: \"\";width: 100%;border-bottom: 1px solid gray;flex-grow: 1;}#sk-container-id-1 div.sk-label:hover label.sk-toggleable__label {background-color: #d4ebff;}#sk-container-id-1 div.sk-serial::before {content: \"\";position: absolute;border-left: 1px solid gray;box-sizing: border-box;top: 0;bottom: 0;left: 50%;z-index: 0;}#sk-container-id-1 div.sk-serial {display: flex;flex-direction: column;align-items: center;background-color: white;padding-right: 0.2em;padding-left: 0.2em;position: relative;}#sk-container-id-1 div.sk-item {position: relative;z-index: 1;}#sk-container-id-1 div.sk-parallel {display: flex;align-items: stretch;justify-content: center;background-color: white;position: relative;}#sk-container-id-1 div.sk-item::before, #sk-container-id-1 div.sk-parallel-item::before {content: \"\";position: absolute;border-left: 1px solid gray;box-sizing: border-box;top: 0;bottom: 0;left: 50%;z-index: -1;}#sk-container-id-1 div.sk-parallel-item {display: flex;flex-direction: column;z-index: 1;position: relative;background-color: white;}#sk-container-id-1 div.sk-parallel-item:first-child::after {align-self: flex-end;width: 50%;}#sk-container-id-1 div.sk-parallel-item:last-child::after {align-self: flex-start;width: 50%;}#sk-container-id-1 div.sk-parallel-item:only-child::after {width: 0;}#sk-container-id-1 div.sk-dashed-wrapped {border: 1px dashed gray;margin: 0 0.4em 0.5em 0.4em;box-sizing: border-box;padding-bottom: 0.4em;background-color: white;}#sk-container-id-1 div.sk-label label {font-family: monospace;font-weight: bold;display: inline-block;line-height: 1.2em;}#sk-container-id-1 div.sk-label-container {text-align: center;}#sk-container-id-1 div.sk-container {/* jupyter's `normalize.less` sets `[hidden] { display: none; }` but bootstrap.min.css set `[hidden] { display: none !important; }` so we also need the `!important` here to be able to override the default hidden behavior on the sphinx rendered scikit-learn.org. See: https://github.com/scikit-learn/scikit-learn/issues/21755 */display: inline-block !important;position: relative;}#sk-container-id-1 div.sk-text-repr-fallback {display: none;}</style><div id=\"sk-container-id-1\" class=\"sk-top-container\"><div class=\"sk-text-repr-fallback\"><pre>AdaBoostClassifier(algorithm=&#x27;SAMME&#x27;, learning_rate=0.2, n_estimators=3,\n                   random_state=0)</pre><b>In a Jupyter environment, please rerun this cell to show the HTML representation or trust the notebook. <br />On GitHub, the HTML representation is unable to render, please try loading this page with nbviewer.org.</b></div><div class=\"sk-container\" hidden><div class=\"sk-item\"><div class=\"sk-estimator sk-toggleable\"><input class=\"sk-toggleable__control sk-hidden--visually\" id=\"sk-estimator-id-1\" type=\"checkbox\" checked><label for=\"sk-estimator-id-1\" class=\"sk-toggleable__label sk-toggleable__label-arrow\">AdaBoostClassifier</label><div class=\"sk-toggleable__content\"><pre>AdaBoostClassifier(algorithm=&#x27;SAMME&#x27;, learning_rate=0.2, n_estimators=3,\n                   random_state=0)</pre></div></div></div></div></div>"
     },
     "execution_count": 7,
     "metadata": {},
     "output_type": "execute_result"
    }
   ],
   "source": [
    "# Make an AdaBoost classifier\n",
    "# API: https://scikit-learn.org/stable/modules/generated/sklearn.ensemble.AdaBoostClassifier.html\n",
    "\n",
    "from sklearn.ensemble import AdaBoostClassifier # Import the corresponding library\n",
    "\n",
    "# Make an instance of Adaboost classifier with n_estimator of 3, learning_rate of 0.2, \n",
    "# random_state of 0, using SAMME algorithm.\n",
    "classifier = AdaBoostClassifier(n_estimators=3, learning_rate=0.2, random_state=0, algorithm=\"SAMME\")\n",
    "classifier.fit(X_train, y_train) # Fit data to the classifier"
   ]
  },
  {
   "cell_type": "code",
   "execution_count": 8,
   "metadata": {
    "ExecuteTime": {
     "end_time": "2023-10-11T12:56:50.954190Z",
     "start_time": "2023-10-11T12:56:50.938220Z"
    }
   },
   "outputs": [
    {
     "name": "stdout",
     "output_type": "stream",
     "text": [
      "[[130   0]\n",
      " [ 19   1]]\n",
      "0.8733333333333333\n",
      "              precision    recall  f1-score   support\n",
      "\n",
      "           0       1.00      0.87      0.93       149\n",
      "           1       0.05      1.00      0.10         1\n",
      "\n",
      "    accuracy                           0.87       150\n",
      "   macro avg       0.53      0.94      0.51       150\n",
      "weighted avg       0.99      0.87      0.93       150\n"
     ]
    }
   ],
   "source": [
    "# Generate classification report\n",
    "\n",
    "from sklearn.metrics import confusion_matrix, accuracy_score, classification_report\n",
    "\n",
    "y_pred = classifier.predict(X_test)\n",
    "cm = confusion_matrix(y_test, y_pred)\n",
    "print(cm)\n",
    "print(accuracy_score(y_test, y_pred))\n",
    "print(classification_report(y_pred, y_test))"
   ]
  },
  {
   "cell_type": "code",
   "execution_count": 16,
   "metadata": {
    "ExecuteTime": {
     "end_time": "2023-10-11T13:05:46.691803Z",
     "start_time": "2023-10-11T13:05:31.758761Z"
    }
   },
   "outputs": [
    {
     "data": {
      "text/plain": "(AdaBoostClassifier(learning_rate=0.8, n_estimators=10),\n {'learning_rate': 0.8, 'n_estimators': 10},\n {'mean_fit_time': array([0.00209541, 0.00770521, 0.06646709, 0.65182281, 0.001296  ,\n         0.00686431, 0.06242747, 0.62328277, 0.00130863, 0.00689459,\n         0.06321492, 0.62582779, 0.00126214, 0.00673118, 0.06239491,\n         0.62323012]),\n  'std_fit_time': array([8.99961266e-04, 3.15332488e-04, 3.11557255e-03, 4.38274640e-02,\n         8.47181967e-05, 6.10729562e-05, 3.18088965e-04, 5.04318620e-03,\n         1.05058318e-04, 6.10217437e-05, 3.00288578e-04, 8.14523974e-03,\n         6.82246168e-05, 3.48213906e-05, 8.19137948e-04, 1.11548628e-02]),\n  'mean_score_time': array([0.00071859, 0.001121  , 0.00457368, 0.03665385, 0.00052738,\n         0.00091934, 0.00416679, 0.03638062, 0.00055189, 0.00090885,\n         0.00435829, 0.0360311 , 0.00050607, 0.00085282, 0.00412216,\n         0.03695679]),\n  'std_score_time': array([9.86468792e-05, 1.14109374e-04, 3.38493886e-04, 4.71412694e-04,\n         4.17800245e-05, 9.02417314e-05, 4.22248391e-05, 3.99402077e-04,\n         2.74880802e-05, 2.89978159e-05, 1.80870375e-04, 3.66035826e-04,\n         1.20872341e-05, 2.31916457e-05, 2.55335501e-05, 7.60825223e-04]),\n  'param_learning_rate': masked_array(data=[0.2, 0.2, 0.2, 0.2, 0.4, 0.4, 0.4, 0.4, 0.6, 0.6, 0.6,\n                     0.6, 0.8, 0.8, 0.8, 0.8],\n               mask=[False, False, False, False, False, False, False, False,\n                     False, False, False, False, False, False, False, False],\n         fill_value='?',\n              dtype=object),\n  'param_n_estimators': masked_array(data=[1, 10, 100, 1000, 1, 10, 100, 1000, 1, 10, 100, 1000,\n                     1, 10, 100, 1000],\n               mask=[False, False, False, False, False, False, False, False,\n                     False, False, False, False, False, False, False, False],\n         fill_value='?',\n              dtype=object),\n  'params': [{'learning_rate': 0.2, 'n_estimators': 1},\n   {'learning_rate': 0.2, 'n_estimators': 10},\n   {'learning_rate': 0.2, 'n_estimators': 100},\n   {'learning_rate': 0.2, 'n_estimators': 1000},\n   {'learning_rate': 0.4, 'n_estimators': 1},\n   {'learning_rate': 0.4, 'n_estimators': 10},\n   {'learning_rate': 0.4, 'n_estimators': 100},\n   {'learning_rate': 0.4, 'n_estimators': 1000},\n   {'learning_rate': 0.6, 'n_estimators': 1},\n   {'learning_rate': 0.6, 'n_estimators': 10},\n   {'learning_rate': 0.6, 'n_estimators': 100},\n   {'learning_rate': 0.6, 'n_estimators': 1000},\n   {'learning_rate': 0.8, 'n_estimators': 1},\n   {'learning_rate': 0.8, 'n_estimators': 10},\n   {'learning_rate': 0.8, 'n_estimators': 100},\n   {'learning_rate': 0.8, 'n_estimators': 1000}],\n  'split0_test_score': array([0.85714286, 0.87142857, 0.84285714, 0.8       , 0.85714286,\n         0.87142857, 0.81428571, 0.78571429, 0.85714286, 0.88571429,\n         0.8       , 0.81428571, 0.85714286, 0.87142857, 0.81428571,\n         0.75714286]),\n  'split1_test_score': array([0.88571429, 0.85714286, 0.84285714, 0.88571429, 0.88571429,\n         0.88571429, 0.84285714, 0.84285714, 0.88571429, 0.88571429,\n         0.82857143, 0.84285714, 0.88571429, 0.9       , 0.81428571,\n         0.84285714]),\n  'split2_test_score': array([0.87142857, 0.87142857, 0.88571429, 0.85714286, 0.87142857,\n         0.87142857, 0.87142857, 0.87142857, 0.87142857, 0.85714286,\n         0.87142857, 0.91428571, 0.87142857, 0.87142857, 0.87142857,\n         0.91428571]),\n  'split3_test_score': array([0.84285714, 0.85714286, 0.82857143, 0.84285714, 0.84285714,\n         0.84285714, 0.82857143, 0.84285714, 0.84285714, 0.84285714,\n         0.85714286, 0.85714286, 0.84285714, 0.85714286, 0.85714286,\n         0.85714286]),\n  'split4_test_score': array([0.85507246, 0.86956522, 0.86956522, 0.84057971, 0.85507246,\n         0.86956522, 0.88405797, 0.84057971, 0.85507246, 0.88405797,\n         0.84057971, 0.85507246, 0.85507246, 0.88405797, 0.82608696,\n         0.85507246]),\n  'mean_test_score': array([0.86244306, 0.86534161, 0.85391304, 0.8452588 , 0.86244306,\n         0.86819876, 0.84824017, 0.83668737, 0.86244306, 0.87109731,\n         0.83954451, 0.85672878, 0.86244306, 0.87681159, 0.83664596,\n         0.84530021]),\n  'std_test_score': array([0.01475341, 0.00672875, 0.02070253, 0.02776292, 0.01475341,\n         0.01394074, 0.02603597, 0.02791591, 0.01475341, 0.01781867,\n         0.02454198, 0.03258697, 0.01475341, 0.01438767, 0.02341541,\n         0.05054193]),\n  'rank_test_score': array([ 5,  4, 10, 13,  5,  3, 11, 15,  5,  2, 14,  9,  5,  1, 16, 12],\n        dtype=int32)})"
     },
     "execution_count": 16,
     "metadata": {},
     "output_type": "execute_result"
    }
   ],
   "source": [
    "from sklearn.model_selection import GridSearchCV\n",
    "# The following codes apply GridSearch to SVM classifier for the optimized parameters\n",
    "# Modify it to perform gridsearch on Adaboost classifier adjusting n_estimator to 1, 10, 100, 100.\n",
    "# learning_rate adjust it to search from 0.2, 0.4, 0.6, 0.8.\n",
    "\n",
    "param_grid = {'n_estimators': [1, 10, 100, 1000],'learning_rate': [0.2, 0.4, 0.6, 0.8]}\n",
    "grid = GridSearchCV(AdaBoostClassifier(),param_grid, scoring ='accuracy')\n",
    "grid.fit(X_train,y_train)\n",
    "grid.best_estimator_, grid.best_params_, grid.cv_results_"
   ]
  },
  {
   "cell_type": "code",
   "execution_count": null,
   "metadata": {},
   "outputs": [],
   "source": [
    "# Make a GradientBoost classifier\n",
    "# API: https://scikit-learn.org/stable/modules/generated/sklearn.ensemble.GradientBoostingClassifier.html?highlight=gradientboostingclassifier#sklearn.ensemble.GradientBoostingClassifier\n",
    "\n",
    "from sklearn.ensemble import GradientBoostingClassifier\n",
    "\n",
    "# Make an instance of Adaboost classifier with n_estimator of 1, learning_rate of 0.4, \n",
    "# random_state of 0.\n",
    "classifier = ________________\n",
    "classifier._____(____, ___)"
   ]
  },
  {
   "cell_type": "code",
   "execution_count": null,
   "metadata": {},
   "outputs": [],
   "source": [
    "# Insert codes to perform gridsearch on GradientBoostingClassifier adjusting n_estimator to 1, 10, 100, 100.\n",
    "# learning_rate adjust it to search from 0.2, 0.4, 0.6, 0.8.\n"
   ]
  },
  {
   "cell_type": "markdown",
   "metadata": {},
   "source": [
    "Write down the details of the best classifier in this box:\n",
    "\n"
   ]
  },
  {
   "cell_type": "code",
   "execution_count": null,
   "metadata": {},
   "outputs": [],
   "source": []
  }
 ],
 "metadata": {
  "kernelspec": {
   "display_name": "Python 3 (ipykernel)",
   "language": "python",
   "name": "python3"
  },
  "language_info": {
   "codemirror_mode": {
    "name": "ipython",
    "version": 3
   },
   "file_extension": ".py",
   "mimetype": "text/x-python",
   "name": "python",
   "nbconvert_exporter": "python",
   "pygments_lexer": "ipython3",
   "version": "3.9.13"
  }
 },
 "nbformat": 4,
 "nbformat_minor": 4
}
