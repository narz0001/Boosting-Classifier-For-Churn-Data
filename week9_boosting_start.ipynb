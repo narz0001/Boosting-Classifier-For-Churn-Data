{
 "cells": [
  {
   "cell_type": "markdown",
   "metadata": {},
   "source": [
    "<h1>Week 9: Boosting Classifier </h1><br>\n",
    "<strong>\n",
    "In this exercise, you are to complete codes following the steps given in the respective cells. <br>\n",
    "Replace the underlines with codes to make appropriate classifiers for churning data.</strong>"
   ]
  },
  {
   "cell_type": "code",
   "execution_count": null,
   "metadata": {},
   "outputs": [],
   "source": [
    "import pandas as pd\n",
    "\n",
    "df = pd.read_csv(\"churning.csv\")"
   ]
  },
  {
   "cell_type": "code",
   "execution_count": null,
   "metadata": {},
   "outputs": [],
   "source": [
    "df.head()"
   ]
  },
  {
   "cell_type": "code",
   "execution_count": null,
   "metadata": {},
   "outputs": [],
   "source": [
    "x = ___________ # Prepare features for classification\n",
    "y = ___________ # Prepare labels for classification"
   ]
  },
  {
   "cell_type": "code",
   "execution_count": null,
   "metadata": {},
   "outputs": [],
   "source": [
    "from sklearn.model_selection import train_test_split\n",
    "\n",
    "x_train, x_test, y_train, y_test = train_test_split(x, y, test_size=0.3, random_state=0)"
   ]
  },
  {
   "cell_type": "code",
   "execution_count": null,
   "metadata": {},
   "outputs": [],
   "source": [
    "# Make an AdaBoost classifier\n",
    "# API: https://scikit-learn.org/stable/modules/generated/sklearn.ensemble.AdaBoostClassifier.html\n",
    "\n",
    "from sklearn.ensemble import ___________ # Import the corresponding library\n",
    "\n",
    "# Make an instance of Adaboost classifier with n_estimator of 3, learning_rate of 0.2, \n",
    "# random_state of 0, using SAMME algorithm.\n",
    "classifier = ________________\n",
    "classifier._______(___, ___) # Fit data to the classifier"
   ]
  },
  {
   "cell_type": "code",
   "execution_count": null,
   "metadata": {},
   "outputs": [],
   "source": [
    "# Generate classification report\n",
    "\n",
    "from sklearn.metrics import confusion_matrix, accuracy_score, classification_report\n",
    "\n",
    "y_pred = classifier.predict(x_test)\n",
    "cm = confusion_matrix(y_test, y_pred)\n",
    "print(cm)\n",
    "print(accuracy_score(y_test, y_pred))\n",
    "print(classification_report(y_pred, y_test))"
   ]
  },
  {
   "cell_type": "code",
   "execution_count": null,
   "metadata": {},
   "outputs": [],
   "source": [
    "from sklearn.model_selection import GridSearchCV\n",
    "\n",
    "# The following codes apply GridSearch to SVM classifier for the optimized parameters\n",
    "# Modify it to perform gridsearch on Adaboost classifier adjusting n_estimator to 1, 10, 100, 100.\n",
    "# learning_rate adjust it to search from 0.2, 0.4, 0.6, 0.8.\n",
    "\n",
    "# param_grid = {'C': [0.1, 1],'kernel': ['rbf', 'poly']}\n",
    "# grid = GridSearchCV(SVC(),param_grid, scoring ='accuracy')\n",
    "# grid.fit(x_train,y_train)\n",
    "# grid.best_estimator_, grid.best_params_, grid.cv_results_"
   ]
  },
  {
   "cell_type": "code",
   "execution_count": null,
   "metadata": {},
   "outputs": [],
   "source": [
    "# Make a GradientBoost classifier\n",
    "# API: https://scikit-learn.org/stable/modules/generated/sklearn.ensemble.GradientBoostingClassifier.html?highlight=gradientboostingclassifier#sklearn.ensemble.GradientBoostingClassifier\n",
    "\n",
    "from sklearn.ensemble import GradientBoostingClassifier\n",
    "\n",
    "# Make an instance of Adaboost classifier with n_estimator of 1, learning_rate of 0.4, \n",
    "# random_state of 0.\n",
    "classifier = ________________\n",
    "classifier._____(____, ___)"
   ]
  },
  {
   "cell_type": "code",
   "execution_count": null,
   "metadata": {},
   "outputs": [],
   "source": [
    "# Insert codes to perform gridsearch on GradientBoostingClassifier adjusting n_estimator to 1, 10, 100, 100.\n",
    "# learning_rate adjust it to search from 0.2, 0.4, 0.6, 0.8.\n"
   ]
  },
  {
   "cell_type": "markdown",
   "metadata": {},
   "source": [
    "Write down the details of the best classifier in this box:\n",
    "\n"
   ]
  },
  {
   "cell_type": "code",
   "execution_count": null,
   "metadata": {},
   "outputs": [],
   "source": []
  }
 ],
 "metadata": {
  "kernelspec": {
   "display_name": "Python 3 (ipykernel)",
   "language": "python",
   "name": "python3"
  },
  "language_info": {
   "codemirror_mode": {
    "name": "ipython",
    "version": 3
   },
   "file_extension": ".py",
   "mimetype": "text/x-python",
   "name": "python",
   "nbconvert_exporter": "python",
   "pygments_lexer": "ipython3",
   "version": "3.9.13"
  }
 },
 "nbformat": 4,
 "nbformat_minor": 4
}
